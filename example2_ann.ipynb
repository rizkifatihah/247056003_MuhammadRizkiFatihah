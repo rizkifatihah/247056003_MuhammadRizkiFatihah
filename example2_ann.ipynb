{
 "cells": [
  {
   "cell_type": "markdown",
   "metadata": {},
   "source": [
    "### 1. TUGAS EXAMPLE 2"
   ]
  },
  {
   "cell_type": "markdown",
   "metadata": {},
   "source": [
    "### Create dan load data"
   ]
  },
  {
   "cell_type": "code",
   "execution_count": null,
   "metadata": {},
   "outputs": [
    {
     "data": {
      "text/html": [
       "<div>\n",
       "<style scoped>\n",
       "    .dataframe tbody tr th:only-of-type {\n",
       "        vertical-align: middle;\n",
       "    }\n",
       "\n",
       "    .dataframe tbody tr th {\n",
       "        vertical-align: top;\n",
       "    }\n",
       "\n",
       "    .dataframe thead th {\n",
       "        text-align: right;\n",
       "    }\n",
       "</style>\n",
       "<table border=\"1\" class=\"dataframe\">\n",
       "  <thead>\n",
       "    <tr style=\"text-align: right;\">\n",
       "      <th></th>\n",
       "      <th>Input1</th>\n",
       "      <th>Input2</th>\n",
       "      <th>Input3</th>\n",
       "      <th>Output</th>\n",
       "    </tr>\n",
       "  </thead>\n",
       "  <tbody>\n",
       "    <tr>\n",
       "      <th>0</th>\n",
       "      <td>1</td>\n",
       "      <td>0</td>\n",
       "      <td>0</td>\n",
       "      <td>0</td>\n",
       "    </tr>\n",
       "    <tr>\n",
       "      <th>1</th>\n",
       "      <td>0</td>\n",
       "      <td>0</td>\n",
       "      <td>1</td>\n",
       "      <td>0</td>\n",
       "    </tr>\n",
       "    <tr>\n",
       "      <th>2</th>\n",
       "      <td>1</td>\n",
       "      <td>0</td>\n",
       "      <td>1</td>\n",
       "      <td>0</td>\n",
       "    </tr>\n",
       "    <tr>\n",
       "      <th>3</th>\n",
       "      <td>1</td>\n",
       "      <td>1</td>\n",
       "      <td>1</td>\n",
       "      <td>1</td>\n",
       "    </tr>\n",
       "  </tbody>\n",
       "</table>\n",
       "</div>"
      ],
      "text/plain": [
       "   Input1  Input2  Input3  Output\n",
       "0       1       0       0       0\n",
       "1       0       0       1       0\n",
       "2       1       0       1       0\n",
       "3       1       1       1       1"
      ]
     },
     "execution_count": 32,
     "metadata": {},
     "output_type": "execute_result"
    }
   ],
   "source": [
    "\"\"\"\"\n",
    "TUGAS 2 :   Artificial Neural Network\n",
    "NAMA    :   Muhammad Rizki Fatihah\n",
    "NIM     :   247056003\n",
    "\"\"\"\n",
    "\n",
    "import numpy as np\n",
    "import pandas as pd\n",
    "import matplotlib.pyplot as plt\n",
    "\n",
    "# Step 1: Loading Data\n",
    "data = {\n",
    "    'Input1': [1, 0, 1, 1],\n",
    "    'Input2': [0, 0, 0, 1],\n",
    "    'Input3': [0, 1, 1, 1],\n",
    "    'Output': [0, 0, 0, 1]\n",
    "}\n",
    "df = pd.DataFrame(data)\n",
    "df"
   ]
  },
  {
   "cell_type": "markdown",
   "metadata": {},
   "source": [
    "### Inisialisasi Parameter"
   ]
  },
  {
   "cell_type": "code",
   "execution_count": 33,
   "metadata": {},
   "outputs": [],
   "source": [
    "learning_rate = 0.1\n",
    "epochs = 10\n",
    "weights = np.zeros(3)  # tiga input\n",
    "bias = 0"
   ]
  },
  {
   "cell_type": "markdown",
   "metadata": {},
   "source": [
    "### Fungsi Aktivasi"
   ]
  },
  {
   "cell_type": "code",
   "execution_count": 34,
   "metadata": {},
   "outputs": [],
   "source": [
    "def step_function(x):\n",
    "    return 1 if x >= 0 else 0"
   ]
  },
  {
   "cell_type": "markdown",
   "metadata": {},
   "source": [
    "### Pelatihan Model dengan Format Epoch Standar"
   ]
  },
  {
   "cell_type": "code",
   "execution_count": 35,
   "metadata": {},
   "outputs": [
    {
     "name": "stdout",
     "output_type": "stream",
     "text": [
      "Epoch | Akurasi   | Bobot                 | Bias\n",
      "------------------------------------------------\n",
      "    1 |    50.00% | [0.  0.1 0.1] | 0.00\n",
      "    2 |    25.00% | [0.  0.2 0.1] | -0.10\n",
      "    3 |    75.00% | [0.  0.2 0. ] | -0.20\n",
      "    4 |   100.00% | [0.  0.2 0. ] | -0.20\n",
      "    5 |   100.00% | [0.  0.2 0. ] | -0.20\n",
      "    6 |   100.00% | [0.  0.2 0. ] | -0.20\n",
      "    7 |   100.00% | [0.  0.2 0. ] | -0.20\n",
      "    8 |   100.00% | [0.  0.2 0. ] | -0.20\n",
      "    9 |   100.00% | [0.  0.2 0. ] | -0.20\n",
      "   10 |   100.00% | [0.  0.2 0. ] | -0.20\n"
     ]
    }
   ],
   "source": [
    "# Step 4: Pelatihan Model dengan Format Epoch Standar\n",
    "print(\"Epoch | Akurasi   | Bobot                 | Bias\")\n",
    "print(\"------------------------------------------------\")\n",
    "\n",
    "for epoch in range(epochs):\n",
    "    correct_predictions = 0  # Counter untuk menghitung prediksi benar\n",
    "    \n",
    "    for index, row in df.iterrows():\n",
    "        # Input dan Target\n",
    "        inputs = np.array([row['Input1'], row['Input2'], row['Input3']])\n",
    "        target = row['Output']\n",
    "        \n",
    "        # Perhitungan Output\n",
    "        weighted_sum = np.dot(weights, inputs) + bias\n",
    "        prediction = step_function(weighted_sum)\n",
    "        \n",
    "        # Perbarui Bobot dan Bias jika Prediksi Salah\n",
    "        error = target - prediction\n",
    "        weights += learning_rate * error * inputs\n",
    "        bias += learning_rate * error\n",
    "        \n",
    "        # Hitung prediksi benar\n",
    "        if prediction == target:\n",
    "            correct_predictions += 1\n",
    "    \n",
    "    # Hitung akurasi untuk setiap epoch\n",
    "    accuracy = (correct_predictions / len(df)) * 100\n",
    "    \n",
    "    # Print hasil tiap epoch dengan format standar\n",
    "    print(f\"{epoch+1:5d} | {accuracy:8.2f}% | {weights} | {bias:.2f}\")"
   ]
  },
  {
   "cell_type": "markdown",
   "metadata": {},
   "source": [
    "### Prediksi"
   ]
  },
  {
   "cell_type": "code",
   "execution_count": 36,
   "metadata": {},
   "outputs": [],
   "source": [
    "def predict(input_data):\n",
    "    weighted_sum = np.dot(weights, input_data) + bias\n",
    "    return step_function(weighted_sum)\n"
   ]
  },
  {
   "cell_type": "code",
   "execution_count": 37,
   "metadata": {},
   "outputs": [
    {
     "name": "stdout",
     "output_type": "stream",
     "text": [
      "   Input1  Input2  Input3  Output  Predicted_Output\n",
      "0       1       0       0       0                 0\n",
      "1       0       0       1       0                 0\n",
      "2       1       0       1       0                 0\n",
      "3       1       1       1       1                 1\n"
     ]
    },
    {
     "data": {
      "image/png": "[encoded data removed]",
      "text/plain": [
       "<Figure size 1000x500 with 1 Axes>"
      ]
     },
     "metadata": {},
     "output_type": "display_data"
    }
   ],
   "source": [
    "outputs = []\n",
    "for index, row in df.iterrows():\n",
    "    inputs = np.array([row['Input1'], row['Input2'], row['Input3']])\n",
    "    outputs.append(predict(inputs))\n",
    "\n",
    "# Menampilkan Hasil Prediksi vs Target\n",
    "df['Predicted_Output'] = outputs\n",
    "print(df)\n",
    "\n",
    "# Visualisasi\n",
    "plt.figure(figsize=(10, 5))\n",
    "plt.scatter(df.index, df['Output'], color='red', label='Output Asli')\n",
    "plt.scatter(df.index, df['Predicted_Output'], color='black', marker='v', label='Prediksi Perceptron')\n",
    "plt.xlabel('Indeks Data')\n",
    "plt.ylabel('Output')\n",
    "plt.title('Hasil Prediksi Perceptron')\n",
    "plt.legend()\n",
    "plt.show()"
   ]
  }
 ],
 "metadata": {
  "kernelspec": {
   "display_name": "Python 3",
   "language": "python",
   "name": "python3"
  },
  "language_info": {
   "codemirror_mode": {
    "name": "ipython",
    "version": 3
   },
   "file_extension": ".py",
   "mimetype": "text/x-python",
   "name": "python",
   "nbconvert_exporter": "python",
   "pygments_lexer": "ipython3",
   "version": "3.12.5"
  }
 },
 "nbformat": 4,
 "nbformat_minor": 2
}
